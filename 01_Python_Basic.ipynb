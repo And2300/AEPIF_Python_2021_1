{
  "cells": [
    {
      "cell_type": "markdown",
      "metadata": {
        "id": "ZjgrrmD4Dvu-"
      },
      "source": [
        "# Basics"
      ]
    },
    {
      "cell_type": "markdown",
      "metadata": {
        "id": "3FuHJRlhDvvG"
      },
      "source": [
        "# Data Types"
      ]
    },
    {
      "cell_type": "markdown",
      "metadata": {
        "id": "Zm4FMoKMDvvG"
      },
      "source": [
        "## Números"
      ]
    },
    {
      "cell_type": "code",
      "execution_count": null,
      "metadata": {
        "id": "9BF4kAgkDvvH",
        "outputId": "b476ce91-6a93-4ddf-d576-b5f06c3d98c0"
      },
      "outputs": [
        {
          "data": {
            "text/plain": [
              "2"
            ]
          },
          "execution_count": 1,
          "metadata": {},
          "output_type": "execute_result"
        }
      ],
      "source": [
        "#suma\n",
        "1 + 1"
      ]
    },
    {
      "cell_type": "code",
      "execution_count": null,
      "metadata": {
        "id": "d0lvLlV8DvvJ",
        "outputId": "9cc0aa4b-9e63-45c7-c494-5dfc61e96419"
      },
      "outputs": [
        {
          "data": {
            "text/plain": [
              "3"
            ]
          },
          "execution_count": 2,
          "metadata": {},
          "output_type": "execute_result"
        }
      ],
      "source": [
        "#multi\n",
        "1*3"
      ]
    },
    {
      "cell_type": "code",
      "execution_count": null,
      "metadata": {
        "id": "4pKrl4oTDvvJ",
        "outputId": "a43a1dd7-cd0a-4d8c-9625-015af11e090e"
      },
      "outputs": [
        {
          "data": {
            "text/plain": [
              "0.5"
            ]
          },
          "execution_count": 3,
          "metadata": {},
          "output_type": "execute_result"
        }
      ],
      "source": [
        "#Div\n",
        "1/2"
      ]
    },
    {
      "cell_type": "code",
      "execution_count": null,
      "metadata": {
        "id": "ud1amps7DvvK",
        "outputId": "b3b6acbe-86ea-4609-f87f-98cd3b88ba9b"
      },
      "outputs": [
        {
          "data": {
            "text/plain": [
              "16"
            ]
          },
          "execution_count": 5,
          "metadata": {},
          "output_type": "execute_result"
        }
      ],
      "source": [
        "#potencia\n",
        "2**4"
      ]
    },
    {
      "cell_type": "code",
      "execution_count": null,
      "metadata": {
        "id": "MDReKQK5DvvM",
        "outputId": "63128a91-7576-4562-b9c6-dbaf47b5df4c"
      },
      "outputs": [
        {
          "data": {
            "text/plain": [
              "0"
            ]
          },
          "execution_count": 6,
          "metadata": {},
          "output_type": "execute_result"
        }
      ],
      "source": [
        "#residuo\n",
        "4%2"
      ]
    },
    {
      "cell_type": "code",
      "execution_count": null,
      "metadata": {
        "id": "fP7JMO2SDvvO",
        "outputId": "e61197a8-42d4-4bb1-f34d-f12eea09fe53"
      },
      "outputs": [
        {
          "data": {
            "text/plain": [
              "2.0"
            ]
          },
          "execution_count": 9,
          "metadata": {},
          "output_type": "execute_result"
        }
      ],
      "source": [
        "#radic\n",
        "4**(1/2)"
      ]
    },
    {
      "cell_type": "code",
      "execution_count": null,
      "metadata": {
        "id": "p_E3ZXFPDvvP",
        "outputId": "0c20c398-fc97-450b-f3d7-63d2885b8450"
      },
      "outputs": [
        {
          "data": {
            "text/plain": [
              "50"
            ]
          },
          "execution_count": 10,
          "metadata": {},
          "output_type": "execute_result"
        }
      ],
      "source": [
        "#ope comb\n",
        "(2+3)*(5+5)"
      ]
    },
    {
      "cell_type": "markdown",
      "metadata": {
        "id": "lYuYmGruDvvQ"
      },
      "source": [
        "## Asignación"
      ]
    },
    {
      "cell_type": "code",
      "execution_count": null,
      "metadata": {
        "id": "faMKMUsADvvQ"
      },
      "outputs": [],
      "source": [
        "#asignar\n",
        "x = 3\n",
        "y = 2."
      ]
    },
    {
      "cell_type": "code",
      "execution_count": null,
      "metadata": {
        "id": "JjwfcqGODvvQ",
        "outputId": "dc82a9ac-025d-4a0f-801e-4e09bf11a72e"
      },
      "outputs": [
        {
          "data": {
            "text/plain": [
              "2.0"
            ]
          },
          "execution_count": 19,
          "metadata": {},
          "output_type": "execute_result"
        }
      ],
      "source": [
        "y"
      ]
    },
    {
      "cell_type": "code",
      "execution_count": null,
      "metadata": {
        "id": "TvlC-z3zDvvR"
      },
      "outputs": [],
      "source": [
        "y = 5."
      ]
    },
    {
      "cell_type": "code",
      "execution_count": null,
      "metadata": {
        "id": "T5Z771g_DvvR",
        "outputId": "ebf5255a-71eb-4496-aaa5-8244f220b4b0"
      },
      "outputs": [
        {
          "data": {
            "text/plain": [
              "5.0"
            ]
          },
          "execution_count": 25,
          "metadata": {},
          "output_type": "execute_result"
        }
      ],
      "source": [
        "y"
      ]
    },
    {
      "cell_type": "code",
      "execution_count": null,
      "metadata": {
        "id": "l6WYNpqtDvvS"
      },
      "outputs": [],
      "source": [
        "#almacenen\n",
        "z = x+y"
      ]
    },
    {
      "cell_type": "code",
      "execution_count": null,
      "metadata": {
        "id": "MwYFPXb-DvvS",
        "outputId": "3655f560-57d7-4b1a-ca85-8b91e289713d"
      },
      "outputs": [
        {
          "data": {
            "text/plain": [
              "8.0"
            ]
          },
          "execution_count": 27,
          "metadata": {},
          "output_type": "execute_result"
        }
      ],
      "source": [
        "z"
      ]
    },
    {
      "cell_type": "markdown",
      "metadata": {
        "id": "DAVU3BPPDvvT"
      },
      "source": [
        "## String"
      ]
    },
    {
      "cell_type": "code",
      "execution_count": null,
      "metadata": {
        "id": "VkCsUoyFDvvU",
        "outputId": "13ad943d-e308-478f-d4fa-db7451769206"
      },
      "outputs": [
        {
          "data": {
            "text/plain": [
              "'string'"
            ]
          },
          "execution_count": 28,
          "metadata": {},
          "output_type": "execute_result"
        }
      ],
      "source": [
        "#string \"\"\n",
        "\"string\""
      ]
    },
    {
      "cell_type": "code",
      "execution_count": null,
      "metadata": {
        "id": "-lSIOLfFDvvU",
        "outputId": "80fe3b7c-32c8-4ec4-fd6c-6634bc3d29d5"
      },
      "outputs": [
        {
          "data": {
            "text/plain": [
              "'string'"
            ]
          },
          "execution_count": 29,
          "metadata": {},
          "output_type": "execute_result"
        }
      ],
      "source": [
        "# ''\n",
        "'string'"
      ]
    },
    {
      "cell_type": "code",
      "execution_count": null,
      "metadata": {
        "id": "qkL5ZQ1zDvvV",
        "outputId": "8559abb6-0c5d-41f1-b099-1e766d9b642d"
      },
      "outputs": [
        {
          "data": {
            "text/plain": [
              "\"axlesi's \""
            ]
          },
          "execution_count": 30,
          "metadata": {},
          "output_type": "execute_result"
        }
      ],
      "source": [
        "\"axlesi's \""
      ]
    },
    {
      "cell_type": "markdown",
      "metadata": {
        "id": "mgLfwkgpDvvW"
      },
      "source": [
        "## Printing"
      ]
    },
    {
      "cell_type": "code",
      "execution_count": null,
      "metadata": {
        "id": "w7RG9I5lDvvW",
        "outputId": "6ec749b8-5694-420f-ca1c-5a8edf32cb67"
      },
      "outputs": [
        {
          "data": {
            "text/plain": [
              "'hola'"
            ]
          },
          "execution_count": 31,
          "metadata": {},
          "output_type": "execute_result"
        }
      ],
      "source": [
        "x = 'hola'\n",
        "x"
      ]
    },
    {
      "cell_type": "code",
      "execution_count": null,
      "metadata": {
        "id": "s19nRW5TDvvX",
        "outputId": "58bca1c5-82db-44a0-edc9-0157649938cb"
      },
      "outputs": [
        {
          "name": "stdout",
          "output_type": "stream",
          "text": [
            "hola\n"
          ]
        }
      ],
      "source": [
        "print(x)"
      ]
    },
    {
      "cell_type": "code",
      "execution_count": null,
      "metadata": {
        "id": "BItKa3f_DvvX"
      },
      "outputs": [],
      "source": [
        "num = 12\n",
        "name = 'SAm'\n",
        "last = 'perez'"
      ]
    },
    {
      "cell_type": "code",
      "execution_count": null,
      "metadata": {
        "id": "4ZIlEhOsDvvX",
        "outputId": "5e97ace3-30c5-4859-9307-bbb1a46eaadc"
      },
      "outputs": [
        {
          "name": "stdout",
          "output_type": "stream",
          "text": [
            "SAmperez\n",
            "SAm perez\n",
            "12SAm\n"
          ]
        }
      ],
      "source": [
        "print(name+last)\n",
        "print(name+' '+last)\n",
        "print(str(num)+name)"
      ]
    },
    {
      "cell_type": "code",
      "execution_count": null,
      "metadata": {
        "id": "eze_HWyBDvvY",
        "outputId": "04d1dd3d-be4d-4a76-917c-7b0b27d18165"
      },
      "outputs": [
        {
          "name": "stdout",
          "output_type": "stream",
          "text": [
            "Mi número es: 12, y mi nombre es: SAm\n"
          ]
        }
      ],
      "source": [
        "print('Mi número es: {}, y mi nombre es: {}'.format(num, name))"
      ]
    },
    {
      "cell_type": "code",
      "execution_count": null,
      "metadata": {
        "id": "ItU9fmrNDvvY"
      },
      "outputs": [],
      "source": [
        "x = '12.0'"
      ]
    },
    {
      "cell_type": "code",
      "execution_count": null,
      "metadata": {
        "id": "dFM-NaFZDvvY",
        "outputId": "74408881-ac8f-48c9-e917-d50ed8d3e61c"
      },
      "outputs": [
        {
          "data": {
            "text/plain": [
              "12"
            ]
          },
          "execution_count": 43,
          "metadata": {},
          "output_type": "execute_result"
        }
      ],
      "source": [
        "int(x)"
      ]
    },
    {
      "cell_type": "code",
      "execution_count": null,
      "metadata": {
        "id": "CJS580DTDvvY",
        "outputId": "6b73a964-8005-4230-944f-1097fa55ff37"
      },
      "outputs": [
        {
          "data": {
            "text/plain": [
              "12.0"
            ]
          },
          "execution_count": 44,
          "metadata": {},
          "output_type": "execute_result"
        }
      ],
      "source": [
        "float(x)"
      ]
    },
    {
      "cell_type": "markdown",
      "metadata": {
        "id": "eWUxuBUeDvvZ"
      },
      "source": [
        "## Listas"
      ]
    },
    {
      "cell_type": "code",
      "execution_count": null,
      "metadata": {
        "id": "FGReK7p6DvvZ",
        "outputId": "30d2ca98-3098-41ac-faec-5aa8bf79891b"
      },
      "outputs": [
        {
          "data": {
            "text/plain": [
              "[1, 2, 3]"
            ]
          },
          "execution_count": 51,
          "metadata": {},
          "output_type": "execute_result"
        }
      ],
      "source": [
        "#número\n",
        "[1,2,3]"
      ]
    },
    {
      "cell_type": "code",
      "execution_count": null,
      "metadata": {
        "id": "T-rB4iogDvvZ",
        "outputId": "05841d23-8cc6-4ebf-f31e-f4aa5f05ff9d"
      },
      "outputs": [
        {
          "data": {
            "text/plain": [
              "['hola', 1, [1, 2]]"
            ]
          },
          "execution_count": 52,
          "metadata": {},
          "output_type": "execute_result"
        }
      ],
      "source": [
        "#string + número\n",
        "['hola', 1 , [1,2]]"
      ]
    },
    {
      "cell_type": "code",
      "execution_count": null,
      "metadata": {
        "id": "sMvjQBIXDvvZ"
      },
      "outputs": [],
      "source": [
        "#guardar\n",
        "my_list = ['a','b','c']"
      ]
    },
    {
      "cell_type": "code",
      "execution_count": null,
      "metadata": {
        "id": "P9U60UaWDvvZ"
      },
      "outputs": [],
      "source": [
        "#agregar elemento al final\n",
        "my_list.append('d')"
      ]
    },
    {
      "cell_type": "code",
      "execution_count": null,
      "metadata": {
        "id": "x2T3okLFDvva",
        "outputId": "5ab9d677-a54a-4d40-ad33-567a8bd58180"
      },
      "outputs": [
        {
          "data": {
            "text/plain": [
              "['a', 'b', 'c', 'd']"
            ]
          },
          "execution_count": 56,
          "metadata": {},
          "output_type": "execute_result"
        }
      ],
      "source": [
        "my_list"
      ]
    },
    {
      "cell_type": "code",
      "execution_count": null,
      "metadata": {
        "id": "JKd02Kx4Dvva",
        "outputId": "cf6d1071-571a-4ead-eb29-1490433d6866"
      },
      "outputs": [
        {
          "data": {
            "text/plain": [
              "'a'"
            ]
          },
          "execution_count": 57,
          "metadata": {},
          "output_type": "execute_result"
        }
      ],
      "source": [
        "#primer elmento\n",
        "my_list[0]"
      ]
    },
    {
      "cell_type": "code",
      "execution_count": null,
      "metadata": {
        "id": "ftIiWWjSDvva",
        "outputId": "b67ef035-c1e1-4eb7-d617-2372406cd7eb"
      },
      "outputs": [
        {
          "data": {
            "text/plain": [
              "'b'"
            ]
          },
          "execution_count": 58,
          "metadata": {},
          "output_type": "execute_result"
        }
      ],
      "source": [
        "my_list[1]"
      ]
    },
    {
      "cell_type": "code",
      "execution_count": null,
      "metadata": {
        "id": "e-mLG2UXDvva",
        "outputId": "8ade930e-f032-4af9-ada9-ea957c4ca88f"
      },
      "outputs": [
        {
          "data": {
            "text/plain": [
              "'d'"
            ]
          },
          "execution_count": 59,
          "metadata": {},
          "output_type": "execute_result"
        }
      ],
      "source": [
        "#último elemento\n",
        "my_list[3]"
      ]
    },
    {
      "cell_type": "code",
      "execution_count": null,
      "metadata": {
        "id": "06sMxhilDvvb",
        "outputId": "aff664f9-db33-4934-b5fb-6d9a4b3f3362"
      },
      "outputs": [
        {
          "data": {
            "text/plain": [
              "'d'"
            ]
          },
          "execution_count": 60,
          "metadata": {},
          "output_type": "execute_result"
        }
      ],
      "source": [
        "#último elemento\n",
        "my_list[-1]"
      ]
    },
    {
      "cell_type": "code",
      "execution_count": null,
      "metadata": {
        "id": "85a78CIkDvvb",
        "outputId": "fa2b2e3a-1f0a-4542-adbc-4d6497a9b040"
      },
      "outputs": [
        {
          "data": {
            "text/plain": [
              "['b', 'c']"
            ]
          },
          "execution_count": 61,
          "metadata": {},
          "output_type": "execute_result"
        }
      ],
      "source": [
        "my_list[1:-1]"
      ]
    },
    {
      "cell_type": "code",
      "execution_count": null,
      "metadata": {
        "id": "ZuyqCR5vDvvb",
        "outputId": "92bb7d26-bbac-4326-84f7-3c35d3e1ee86"
      },
      "outputs": [
        {
          "data": {
            "text/plain": [
              "['b', 'c', 'd']"
            ]
          },
          "execution_count": 62,
          "metadata": {},
          "output_type": "execute_result"
        }
      ],
      "source": [
        "my_list[1:]"
      ]
    },
    {
      "cell_type": "code",
      "execution_count": null,
      "metadata": {
        "id": "BgnIZq8cDvvb",
        "outputId": "d66720ef-05c9-419a-8bb5-757cb14c9383"
      },
      "outputs": [
        {
          "data": {
            "text/plain": [
              "['a', 'b', 'c']"
            ]
          },
          "execution_count": 63,
          "metadata": {},
          "output_type": "execute_result"
        }
      ],
      "source": [
        "my_list[:-1]"
      ]
    },
    {
      "cell_type": "code",
      "execution_count": null,
      "metadata": {
        "id": "SOPNnzz2Dvvb",
        "outputId": "96542a23-7c19-415b-b81f-ad9127f5e264"
      },
      "outputs": [
        {
          "data": {
            "text/plain": [
              "4"
            ]
          },
          "execution_count": 64,
          "metadata": {},
          "output_type": "execute_result"
        }
      ],
      "source": [
        "#tamaño de la cadena\n",
        "len(my_list)"
      ]
    },
    {
      "cell_type": "code",
      "execution_count": null,
      "metadata": {
        "id": "v9I_Q4w9Dvvc",
        "outputId": "e3410d5e-1bbd-4f11-9468-2f527e3682d4"
      },
      "outputs": [
        {
          "data": {
            "text/plain": [
              "['a', 'b', 'c', 'd']"
            ]
          },
          "execution_count": 65,
          "metadata": {},
          "output_type": "execute_result"
        }
      ],
      "source": [
        "my_list"
      ]
    },
    {
      "cell_type": "code",
      "execution_count": null,
      "metadata": {
        "id": "9rpXo2R6Dvvc"
      },
      "outputs": [],
      "source": [
        "#cambio de elementos\n",
        "my_list[0]='NEW'"
      ]
    },
    {
      "cell_type": "code",
      "execution_count": null,
      "metadata": {
        "id": "8ukEyYRBDvvc",
        "outputId": "17bc9202-c141-46d1-aaa1-62bb29824b94"
      },
      "outputs": [
        {
          "data": {
            "text/plain": [
              "['NEW', 'b', 'c', 'd']"
            ]
          },
          "execution_count": 67,
          "metadata": {},
          "output_type": "execute_result"
        }
      ],
      "source": [
        "my_list"
      ]
    },
    {
      "cell_type": "code",
      "execution_count": null,
      "metadata": {
        "id": "Lwk2w0fEDvvc"
      },
      "outputs": [],
      "source": [
        "#arreglo dentro de un arreglo\n",
        "arreglo = [1,2,3,[4,5,['target']]]"
      ]
    },
    {
      "cell_type": "code",
      "execution_count": null,
      "metadata": {
        "id": "FQk6EV-fDvvc",
        "outputId": "5256d469-dcec-450e-be16-356e63b31f04"
      },
      "outputs": [
        {
          "data": {
            "text/plain": [
              "'target'"
            ]
          },
          "execution_count": 73,
          "metadata": {},
          "output_type": "execute_result"
        }
      ],
      "source": [
        "arreglo[3][2][0]"
      ]
    },
    {
      "cell_type": "code",
      "execution_count": null,
      "metadata": {
        "id": "MdrxyL2tDvvd",
        "outputId": "240aeeaa-dd50-4428-85f9-46560887261b"
      },
      "outputs": [
        {
          "name": "stdout",
          "output_type": "stream",
          "text": [
            "target\n"
          ]
        }
      ],
      "source": [
        "print(arreglo[3][2][0])"
      ]
    },
    {
      "cell_type": "code",
      "execution_count": null,
      "metadata": {
        "id": "n0SnqehhDvvd",
        "outputId": "ccfc8349-81aa-4e65-9338-c60da4eb71a5"
      },
      "outputs": [
        {
          "data": {
            "text/plain": [
              "[4, 5, ['target']]"
            ]
          },
          "execution_count": 74,
          "metadata": {},
          "output_type": "execute_result"
        }
      ],
      "source": [
        "#elimiar elemento final\n",
        "arreglo.pop(-1)"
      ]
    },
    {
      "cell_type": "code",
      "execution_count": null,
      "metadata": {
        "id": "1H6oxtd7Dvvd",
        "outputId": "cab58e22-62dc-4039-91ad-a50840877ba4"
      },
      "outputs": [
        {
          "data": {
            "text/plain": [
              "[1, 2, 3]"
            ]
          },
          "execution_count": 75,
          "metadata": {},
          "output_type": "execute_result"
        }
      ],
      "source": [
        "arreglo"
      ]
    },
    {
      "cell_type": "markdown",
      "metadata": {
        "id": "-JUj-U_hDvvd"
      },
      "source": [
        "## Diccionarios"
      ]
    },
    {
      "cell_type": "code",
      "execution_count": null,
      "metadata": {
        "id": "GbMMMobTDvvd"
      },
      "outputs": [],
      "source": [
        "#key , item\n",
        "d = {'key1':'item1', 'key2':'item2'}"
      ]
    },
    {
      "cell_type": "code",
      "execution_count": null,
      "metadata": {
        "id": "uNEvX4W4Dvvd",
        "outputId": "0dd38a93-73cb-4fa0-d83f-ea57c50836d0"
      },
      "outputs": [
        {
          "data": {
            "text/plain": [
              "{'key1': 'item1', 'key2': 'item2'}"
            ]
          },
          "execution_count": 78,
          "metadata": {},
          "output_type": "execute_result"
        }
      ],
      "source": [
        "d"
      ]
    },
    {
      "cell_type": "code",
      "execution_count": null,
      "metadata": {
        "id": "zku676jwDvve",
        "outputId": "f7acba72-a7db-44cd-9ffd-2dd409ddb6bb"
      },
      "outputs": [
        {
          "data": {
            "text/plain": [
              "['key1', 'key2']"
            ]
          },
          "execution_count": 80,
          "metadata": {},
          "output_type": "execute_result"
        }
      ],
      "source": [
        "list(d)"
      ]
    },
    {
      "cell_type": "code",
      "execution_count": null,
      "metadata": {
        "id": "Pv4UdzqsDvve",
        "outputId": "09d76ffc-54b4-4735-853b-df4e26af517c"
      },
      "outputs": [
        {
          "data": {
            "text/plain": [
              "'item1'"
            ]
          },
          "execution_count": 81,
          "metadata": {},
          "output_type": "execute_result"
        }
      ],
      "source": [
        "d['key1']"
      ]
    },
    {
      "cell_type": "markdown",
      "metadata": {
        "id": "gYEuLYyiDvvf"
      },
      "source": [
        "## Booleans"
      ]
    },
    {
      "cell_type": "code",
      "execution_count": null,
      "metadata": {
        "id": "Bn5vkcZDDvvf",
        "outputId": "0a13da8a-889b-49b7-9382-6eeb70c5d09b"
      },
      "outputs": [
        {
          "data": {
            "text/plain": [
              "True"
            ]
          },
          "execution_count": 84,
          "metadata": {},
          "output_type": "execute_result"
        }
      ],
      "source": [
        "True"
      ]
    },
    {
      "cell_type": "code",
      "execution_count": null,
      "metadata": {
        "id": "gR9F87twDvvf",
        "outputId": "e80d42eb-d8d2-4f9e-9fcf-7fcb2c894ef5"
      },
      "outputs": [
        {
          "data": {
            "text/plain": [
              "False"
            ]
          },
          "execution_count": 85,
          "metadata": {},
          "output_type": "execute_result"
        }
      ],
      "source": [
        "False"
      ]
    },
    {
      "cell_type": "code",
      "execution_count": null,
      "metadata": {
        "id": "GewfJZ7JDvvg"
      },
      "outputs": [],
      "source": [
        "x = 1"
      ]
    },
    {
      "cell_type": "code",
      "execution_count": null,
      "metadata": {
        "id": "TGolLOepDvvg",
        "outputId": "c6f0b1e3-2172-40d0-dbd2-2e928eadbae6"
      },
      "outputs": [
        {
          "data": {
            "text/plain": [
              "True"
            ]
          },
          "execution_count": 87,
          "metadata": {},
          "output_type": "execute_result"
        }
      ],
      "source": [
        "x == 1"
      ]
    },
    {
      "cell_type": "code",
      "execution_count": null,
      "metadata": {
        "id": "Hk-xo4z4Dvvg",
        "outputId": "391df935-cb19-4513-fdae-f724cbd34307"
      },
      "outputs": [
        {
          "data": {
            "text/plain": [
              "False"
            ]
          },
          "execution_count": 88,
          "metadata": {},
          "output_type": "execute_result"
        }
      ],
      "source": [
        "x == 2"
      ]
    },
    {
      "cell_type": "markdown",
      "metadata": {
        "id": "czdR4NBkDvvg"
      },
      "source": [
        "## Tupla\n",
        "La tupla es inmutable"
      ]
    },
    {
      "cell_type": "code",
      "execution_count": null,
      "metadata": {
        "id": "hFuO_2D8Dvvg"
      },
      "outputs": [],
      "source": [
        "t = (1,'hola',(1,2))"
      ]
    },
    {
      "cell_type": "code",
      "execution_count": null,
      "metadata": {
        "id": "NkCsX0n0Dvvg",
        "outputId": "19715cdc-74c5-4c3e-f1e7-a3a22f55d7c2"
      },
      "outputs": [
        {
          "data": {
            "text/plain": [
              "(1, 2)"
            ]
          },
          "execution_count": 92,
          "metadata": {},
          "output_type": "execute_result"
        }
      ],
      "source": [
        "t[2]"
      ]
    },
    {
      "cell_type": "code",
      "execution_count": null,
      "metadata": {
        "id": "rELA2KJ3Dvvh",
        "outputId": "67d9b1d7-cf69-4600-f9b5-f80124cc021e"
      },
      "outputs": [
        {
          "ename": "TypeError",
          "evalue": "'tuple' object does not support item assignment",
          "output_type": "error",
          "traceback": [
            "\u001b[1;31m---------------------------------------------------------------------------\u001b[0m",
            "\u001b[1;31mTypeError\u001b[0m                                 Traceback (most recent call last)",
            "\u001b[1;32m<ipython-input-93-7d9e51808014>\u001b[0m in \u001b[0;36m<module>\u001b[1;34m\u001b[0m\n\u001b[1;32m----> 1\u001b[1;33m \u001b[0mt\u001b[0m\u001b[1;33m[\u001b[0m\u001b[1;36m0\u001b[0m\u001b[1;33m]\u001b[0m\u001b[1;33m=\u001b[0m\u001b[1;34m'NEW'\u001b[0m\u001b[1;33m\u001b[0m\u001b[1;33m\u001b[0m\u001b[0m\n\u001b[0m",
            "\u001b[1;31mTypeError\u001b[0m: 'tuple' object does not support item assignment"
          ]
        }
      ],
      "source": [
        "t[0]='NEW'"
      ]
    },
    {
      "cell_type": "markdown",
      "metadata": {
        "id": "aBXBhg2IDvvh"
      },
      "source": [
        "## Comparaciones"
      ]
    },
    {
      "cell_type": "code",
      "execution_count": null,
      "metadata": {
        "id": "KMbu_vgUDvvh",
        "outputId": "498b0780-bc3d-46a1-9ae7-16b111d03e34"
      },
      "outputs": [
        {
          "data": {
            "text/plain": [
              "True"
            ]
          },
          "execution_count": 94,
          "metadata": {},
          "output_type": "execute_result"
        }
      ],
      "source": [
        "1<2"
      ]
    },
    {
      "cell_type": "code",
      "execution_count": null,
      "metadata": {
        "id": "OUjG6vR5Dvvh",
        "outputId": "eed7fff2-acbd-42a6-c989-295c0e5e7e08"
      },
      "outputs": [
        {
          "data": {
            "text/plain": [
              "False"
            ]
          },
          "execution_count": 95,
          "metadata": {},
          "output_type": "execute_result"
        }
      ],
      "source": [
        "1>2"
      ]
    },
    {
      "cell_type": "code",
      "execution_count": null,
      "metadata": {
        "id": "fm6iTEj_Dvvh",
        "outputId": "7322a38b-51d1-4b9d-8524-611c82ef96f6"
      },
      "outputs": [
        {
          "data": {
            "text/plain": [
              "True"
            ]
          },
          "execution_count": 96,
          "metadata": {},
          "output_type": "execute_result"
        }
      ],
      "source": [
        "1>=1"
      ]
    },
    {
      "cell_type": "code",
      "execution_count": null,
      "metadata": {
        "id": "D3Vmt_g9Dvvi",
        "outputId": "3344c4d6-5505-48b0-af24-b90a0e386783"
      },
      "outputs": [
        {
          "data": {
            "text/plain": [
              "True"
            ]
          },
          "execution_count": 97,
          "metadata": {},
          "output_type": "execute_result"
        }
      ],
      "source": [
        "1==1"
      ]
    },
    {
      "cell_type": "code",
      "execution_count": null,
      "metadata": {
        "id": "0Q0CtgpMDvvi",
        "outputId": "f8953f14-1282-4ead-bc2a-c8c50df3a2a9"
      },
      "outputs": [
        {
          "data": {
            "text/plain": [
              "False"
            ]
          },
          "execution_count": 98,
          "metadata": {},
          "output_type": "execute_result"
        }
      ],
      "source": [
        "'hola'=='adios'"
      ]
    },
    {
      "cell_type": "markdown",
      "metadata": {
        "id": "3ZRasObLDvvi"
      },
      "source": [
        "## Operadores lógicos"
      ]
    },
    {
      "cell_type": "code",
      "execution_count": null,
      "metadata": {
        "id": "SfGzSGHsDvvi",
        "outputId": "73505c83-0022-4d36-ae28-786dbfe4d4a6"
      },
      "outputs": [
        {
          "data": {
            "text/plain": [
              "False"
            ]
          },
          "execution_count": 99,
          "metadata": {},
          "output_type": "execute_result"
        }
      ],
      "source": [
        "(1>2) and (2<3)"
      ]
    },
    {
      "cell_type": "code",
      "execution_count": null,
      "metadata": {
        "id": "I27eVorlDvvi",
        "outputId": "f75bb20d-a736-4049-a507-f4f664daf5b1"
      },
      "outputs": [
        {
          "data": {
            "text/plain": [
              "True"
            ]
          },
          "execution_count": 100,
          "metadata": {},
          "output_type": "execute_result"
        }
      ],
      "source": [
        "(1==2) or (2==3) or (2<3)"
      ]
    },
    {
      "cell_type": "markdown",
      "metadata": {
        "id": "7rO0Iw5qDvvi"
      },
      "source": [
        "## if, elif, else"
      ]
    },
    {
      "cell_type": "code",
      "execution_count": null,
      "metadata": {
        "id": "2Kw-edAuDvvj",
        "outputId": "9e695204-fed1-470c-9519-c22e21a54074"
      },
      "outputs": [
        {
          "name": "stdout",
          "output_type": "stream",
          "text": [
            "Si\n"
          ]
        }
      ],
      "source": [
        "if 1<2:\n",
        "    print('Si')"
      ]
    },
    {
      "cell_type": "code",
      "execution_count": null,
      "metadata": {
        "id": "8FD2SZMVDvvj",
        "outputId": "41bc3fa6-8312-4014-ccec-3ec1f754cb14"
      },
      "outputs": [
        {
          "name": "stdout",
          "output_type": "stream",
          "text": [
            "no\n"
          ]
        }
      ],
      "source": [
        "if 1>2:\n",
        "    print('Si')\n",
        "else:\n",
        "    print('no')"
      ]
    },
    {
      "cell_type": "code",
      "execution_count": null,
      "metadata": {
        "id": "KNn5X4wBDvvj",
        "outputId": "8219bcc1-177a-4af0-9d4e-f2243129a1f3"
      },
      "outputs": [
        {
          "name": "stdout",
          "output_type": "stream",
          "text": [
            "tres\n"
          ]
        }
      ],
      "source": [
        "if 1==2:\n",
        "    print('Si')\n",
        "elif 3==3:\n",
        "    print('tres')\n",
        "else:\n",
        "    print('no')"
      ]
    },
    {
      "cell_type": "code",
      "execution_count": null,
      "metadata": {
        "id": "b8JAXBYYDvvk"
      },
      "outputs": [],
      "source": [
        "if 1==2:\n",
        "    print('Si')\n",
        "elif 3==3:\n",
        "    None\n",
        "else:\n",
        "    print('no')"
      ]
    },
    {
      "cell_type": "markdown",
      "metadata": {
        "id": "JbyinB3fDvvk"
      },
      "source": [
        "## For"
      ]
    },
    {
      "cell_type": "code",
      "execution_count": null,
      "metadata": {
        "id": "HCN-HKu9Dvvk"
      },
      "outputs": [],
      "source": [
        "seq = [1,2,3,4,5]"
      ]
    },
    {
      "cell_type": "code",
      "execution_count": null,
      "metadata": {
        "id": "m4rOUOoIDvvk",
        "outputId": "d5bd6465-e358-4381-af7e-27313e7ff352"
      },
      "outputs": [
        {
          "name": "stdout",
          "output_type": "stream",
          "text": [
            "1\n",
            "2\n",
            "3\n",
            "4\n",
            "5\n"
          ]
        }
      ],
      "source": [
        "for i in range(len(seq)):\n",
        "    print(seq[i])"
      ]
    },
    {
      "cell_type": "code",
      "execution_count": null,
      "metadata": {
        "id": "TU8jSS5MDvvk",
        "outputId": "499b9b61-93f1-4971-93f8-02dd18099b04"
      },
      "outputs": [
        {
          "name": "stdout",
          "output_type": "stream",
          "text": [
            "1\n",
            "2\n",
            "3\n",
            "4\n",
            "5\n"
          ]
        }
      ],
      "source": [
        "for item in seq:\n",
        "    print(item)"
      ]
    },
    {
      "cell_type": "code",
      "execution_count": null,
      "metadata": {
        "id": "WDB8k-_sDvvl",
        "outputId": "74075170-b086-4644-e82c-0b9bd5a3b51a"
      },
      "outputs": [
        {
          "name": "stdout",
          "output_type": "stream",
          "text": [
            "yes\n",
            "yes\n",
            "yes\n",
            "yes\n",
            "yes\n"
          ]
        }
      ],
      "source": [
        "for item in seq:\n",
        "    print('yes')"
      ]
    },
    {
      "cell_type": "code",
      "execution_count": null,
      "metadata": {
        "id": "oCmvfvNRDvvl",
        "outputId": "16309c0a-812f-4a8e-ef50-56652664508b"
      },
      "outputs": [
        {
          "name": "stdout",
          "output_type": "stream",
          "text": [
            "2\n",
            "4\n",
            "6\n",
            "8\n",
            "10\n"
          ]
        }
      ],
      "source": [
        "for item in seq:\n",
        "    print(item+item)"
      ]
    },
    {
      "cell_type": "markdown",
      "metadata": {
        "id": "QWTVSBPHDvvl"
      },
      "source": [
        "## while"
      ]
    },
    {
      "cell_type": "code",
      "execution_count": null,
      "metadata": {
        "id": "V6-lkPwGDvvl",
        "outputId": "9c8a804d-a70e-410d-eee5-0102f6fc84ad"
      },
      "outputs": [
        {
          "name": "stdout",
          "output_type": "stream",
          "text": [
            "i es: 1\n",
            "i es: 2\n",
            "i es: 3\n",
            "i es: 4\n"
          ]
        }
      ],
      "source": [
        "i=1\n",
        "while i<5:\n",
        "    print('i es: {}'.format(i))\n",
        "    i = i+1"
      ]
    },
    {
      "cell_type": "markdown",
      "metadata": {
        "id": "ko6dV75QDvvl"
      },
      "source": [
        "## Range"
      ]
    },
    {
      "cell_type": "code",
      "execution_count": null,
      "metadata": {
        "id": "ELYlQBCrDvvm",
        "outputId": "9724fdf4-dcea-4b23-eb55-d74bea9fa2cf"
      },
      "outputs": [
        {
          "data": {
            "text/plain": [
              "range(0, 5)"
            ]
          },
          "execution_count": 116,
          "metadata": {},
          "output_type": "execute_result"
        }
      ],
      "source": [
        "range(5)"
      ]
    },
    {
      "cell_type": "code",
      "execution_count": null,
      "metadata": {
        "id": "RqWK4WyhDvvm",
        "outputId": "2010bd54-873c-4bd8-f3a8-9bccc0f6ed18"
      },
      "outputs": [
        {
          "data": {
            "text/plain": [
              "range(2, 8)"
            ]
          },
          "execution_count": 117,
          "metadata": {},
          "output_type": "execute_result"
        }
      ],
      "source": [
        "range(2,8)"
      ]
    },
    {
      "cell_type": "code",
      "execution_count": null,
      "metadata": {
        "id": "Vh6dn0I2Dvvm",
        "outputId": "146f9044-851a-45d2-eb62-17d0d60c4144"
      },
      "outputs": [
        {
          "data": {
            "text/plain": [
              "[0, 1, 2, 3, 4]"
            ]
          },
          "execution_count": 118,
          "metadata": {},
          "output_type": "execute_result"
        }
      ],
      "source": [
        "list(range(5))"
      ]
    },
    {
      "cell_type": "code",
      "execution_count": null,
      "metadata": {
        "id": "LQQYNewGDvvm",
        "outputId": "93248944-4289-484c-c547-8fa72080f06b"
      },
      "outputs": [
        {
          "name": "stdout",
          "output_type": "stream",
          "text": [
            "0\n",
            "1\n",
            "2\n",
            "3\n",
            "4\n"
          ]
        }
      ],
      "source": [
        "for i in range(5):\n",
        "    print(i)"
      ]
    },
    {
      "cell_type": "markdown",
      "metadata": {
        "id": "uNWhYCIqDvvm"
      },
      "source": [
        "## Lista compresiva"
      ]
    },
    {
      "cell_type": "code",
      "execution_count": null,
      "metadata": {
        "id": "aD2TckLeDvvn"
      },
      "outputs": [],
      "source": [
        "x = list(range(5))"
      ]
    },
    {
      "cell_type": "code",
      "execution_count": null,
      "metadata": {
        "id": "BrAPDUaADvvn",
        "outputId": "e7a516a6-f191-4345-c1e2-9ba32a965c2a"
      },
      "outputs": [
        {
          "name": "stdout",
          "output_type": "stream",
          "text": [
            "[0, 1, 4, 9, 16]\n"
          ]
        }
      ],
      "source": [
        "# cadena vacía\n",
        "out = []\n",
        "for item in x:\n",
        "    out.append(item**2)\n",
        "\n",
        "print(out)"
      ]
    },
    {
      "cell_type": "markdown",
      "metadata": {
        "id": "QvNQFK9bDvvn"
      },
      "source": [
        "## Funciones"
      ]
    },
    {
      "cell_type": "code",
      "execution_count": null,
      "metadata": {
        "id": "oweeV0xSDvvn"
      },
      "outputs": [],
      "source": [
        "def my_fuc(param1='default'):\n",
        "    \"\"\"\n",
        "    escribe aquí\n",
        "    \"\"\"\n",
        "    print(param1)"
      ]
    },
    {
      "cell_type": "code",
      "execution_count": null,
      "metadata": {
        "id": "S89NH6RxDvvn"
      },
      "outputs": [],
      "source": [
        "def my_fuc(param1='default'):\n",
        "    \"\"\"\n",
        "    escribe aquí\n",
        "    \"\"\"\n",
        "    print(param1)\n",
        "    return out"
      ]
    },
    {
      "cell_type": "code",
      "execution_count": null,
      "metadata": {
        "id": "crZW3taLDvvn",
        "outputId": "2e9953dc-7742-474e-d4d8-926c21d1735d"
      },
      "outputs": [
        {
          "data": {
            "text/plain": [
              "<function __main__.my_fuc(param1='default')>"
            ]
          },
          "execution_count": 127,
          "metadata": {},
          "output_type": "execute_result"
        }
      ],
      "source": [
        "my_fuc"
      ]
    },
    {
      "cell_type": "code",
      "execution_count": null,
      "metadata": {
        "id": "IhSWksgoDvvo",
        "outputId": "483f6bbb-f17d-4a58-e655-e2662eda416f"
      },
      "outputs": [
        {
          "name": "stdout",
          "output_type": "stream",
          "text": [
            "default\n"
          ]
        },
        {
          "data": {
            "text/plain": [
              "[0, 1, 4, 9, 16]"
            ]
          },
          "execution_count": 128,
          "metadata": {},
          "output_type": "execute_result"
        }
      ],
      "source": [
        "my_fuc()"
      ]
    },
    {
      "cell_type": "code",
      "execution_count": null,
      "metadata": {
        "id": "xc3vtiEzDvvo",
        "outputId": "c28c26cf-5f55-4e78-8c16-a1a068fc4da3"
      },
      "outputs": [
        {
          "name": "stdout",
          "output_type": "stream",
          "text": [
            "default\n"
          ]
        }
      ],
      "source": [
        "z = my_fuc()"
      ]
    },
    {
      "cell_type": "code",
      "execution_count": null,
      "metadata": {
        "id": "cXLqUb_iDvvo",
        "outputId": "f0e51aa9-290b-4b97-920e-7ab6db88d578"
      },
      "outputs": [
        {
          "data": {
            "text/plain": [
              "[0, 1, 4, 9, 16]"
            ]
          },
          "execution_count": 130,
          "metadata": {},
          "output_type": "execute_result"
        }
      ],
      "source": [
        "z"
      ]
    },
    {
      "cell_type": "code",
      "execution_count": null,
      "metadata": {
        "id": "QFe-WJKJDvvq",
        "outputId": "302dd7f2-e856-457a-f485-81484b8f5797"
      },
      "outputs": [
        {
          "name": "stdout",
          "output_type": "stream",
          "text": [
            "new\n"
          ]
        }
      ],
      "source": [
        "my_fuc(param1='new')"
      ]
    },
    {
      "cell_type": "markdown",
      "metadata": {
        "id": "sa9yXuzLDvvr"
      },
      "source": [
        "## Methods"
      ]
    },
    {
      "cell_type": "code",
      "execution_count": null,
      "metadata": {
        "id": "KQgCOk4QDvvr"
      },
      "outputs": [],
      "source": [
        "st = 'Hola mi nombre es Sam'"
      ]
    },
    {
      "cell_type": "code",
      "execution_count": null,
      "metadata": {
        "id": "9Ctfu3xzDvvr",
        "outputId": "424efa23-9d4a-479a-d6d5-79bb79457d14"
      },
      "outputs": [
        {
          "data": {
            "text/plain": [
              "'hola mi nombre es sam'"
            ]
          },
          "execution_count": 135,
          "metadata": {},
          "output_type": "execute_result"
        }
      ],
      "source": [
        "st.lower()"
      ]
    },
    {
      "cell_type": "code",
      "execution_count": null,
      "metadata": {
        "id": "2YcXRbY-Dvvs",
        "outputId": "a7ce515c-2e20-4bb8-8717-866434753c9b"
      },
      "outputs": [
        {
          "data": {
            "text/plain": [
              "'HOLA MI NOMBRE ES SAM'"
            ]
          },
          "execution_count": 136,
          "metadata": {},
          "output_type": "execute_result"
        }
      ],
      "source": [
        "st.upper()"
      ]
    },
    {
      "cell_type": "code",
      "execution_count": null,
      "metadata": {
        "id": "cjAexhLJDvvs",
        "outputId": "1f1a45c9-06d9-45d9-8ec0-ce0132d6f28a"
      },
      "outputs": [
        {
          "data": {
            "text/plain": [
              "['Hol', ' mi nombre es S', 'm']"
            ]
          },
          "execution_count": 138,
          "metadata": {},
          "output_type": "execute_result"
        }
      ],
      "source": [
        "st.split('a')"
      ]
    },
    {
      "cell_type": "code",
      "execution_count": null,
      "metadata": {
        "id": "MC8k0SlVDvvs",
        "outputId": "4054d619-57dc-434a-dfbc-cd3ac5790117"
      },
      "outputs": [
        {
          "data": {
            "text/plain": [
              "['Hola', 'mi', 'nombre', 'es', 'Sam']"
            ]
          },
          "execution_count": 139,
          "metadata": {},
          "output_type": "execute_result"
        }
      ],
      "source": [
        "st.split()"
      ]
    },
    {
      "cell_type": "code",
      "execution_count": null,
      "metadata": {
        "id": "ossEDiY0Dvvt",
        "outputId": "bb3a5dce-8a5e-4f98-9e01-a1d9f1c94f68"
      },
      "outputs": [
        {
          "data": {
            "text/plain": [
              "'Hola'"
            ]
          },
          "execution_count": 140,
          "metadata": {},
          "output_type": "execute_result"
        }
      ],
      "source": [
        "st.split()[0]"
      ]
    },
    {
      "cell_type": "markdown",
      "metadata": {
        "id": "sVOkoDkkDvvt"
      },
      "source": [
        "# That's all"
      ]
    }
  ],
  "metadata": {
    "kernelspec": {
      "display_name": "Python 3",
      "language": "python",
      "name": "python3"
    },
    "language_info": {
      "codemirror_mode": {
        "name": "ipython",
        "version": 3
      },
      "file_extension": ".py",
      "mimetype": "text/x-python",
      "name": "python",
      "nbconvert_exporter": "python",
      "pygments_lexer": "ipython3",
      "version": "3.6.8"
    },
    "colab": {
      "name": "01-Python Basic.ipynb",
      "provenance": [],
      "collapsed_sections": [
        "DAVU3BPPDvvT",
        "mgLfwkgpDvvW",
        "eWUxuBUeDvvZ",
        "-JUj-U_hDvvd",
        "gYEuLYyiDvvf",
        "czdR4NBkDvvg",
        "aBXBhg2IDvvh",
        "3ZRasObLDvvi",
        "7rO0Iw5qDvvi",
        "JbyinB3fDvvk",
        "QWTVSBPHDvvl",
        "ko6dV75QDvvl",
        "uNWhYCIqDvvm",
        "QvNQFK9bDvvn",
        "sa9yXuzLDvvr"
      ]
    }
  },
  "nbformat": 4,
  "nbformat_minor": 0
}
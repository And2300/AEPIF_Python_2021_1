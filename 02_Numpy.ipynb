{
  "cells": [
    {
      "cell_type": "markdown",
      "metadata": {
        "id": "PIuS3lKHD8Ma"
      },
      "source": [
        "# Numpy"
      ]
    },
    {
      "cell_type": "code",
      "execution_count": null,
      "metadata": {
        "id": "ZfDpHR05D8Mn"
      },
      "outputs": [],
      "source": [
        "import numpy as np"
      ]
    },
    {
      "cell_type": "markdown",
      "metadata": {
        "id": "ETJZ6c5aD8Mp"
      },
      "source": [
        "## Numpy array"
      ]
    },
    {
      "cell_type": "code",
      "execution_count": null,
      "metadata": {
        "id": "zrCIb_2WD8Mq"
      },
      "outputs": [],
      "source": [
        "my_list = [1,2,3]"
      ]
    },
    {
      "cell_type": "code",
      "execution_count": null,
      "metadata": {
        "id": "QVjijalKD8Mq",
        "outputId": "a5126f93-5b7a-4708-bada-b78935b345f3"
      },
      "outputs": [
        {
          "data": {
            "text/plain": [
              "list"
            ]
          },
          "execution_count": 3,
          "metadata": {},
          "output_type": "execute_result"
        }
      ],
      "source": [
        "type(my_list)"
      ]
    },
    {
      "cell_type": "code",
      "execution_count": null,
      "metadata": {
        "id": "FRF6p3ZeD8Ms",
        "outputId": "cd0ac57d-0ca8-46dc-f8f0-33e6c1510657"
      },
      "outputs": [
        {
          "data": {
            "text/plain": [
              "array([1, 2, 3])"
            ]
          },
          "execution_count": 4,
          "metadata": {},
          "output_type": "execute_result"
        }
      ],
      "source": [
        "#lista --->  array\n",
        "np.array(my_list)"
      ]
    },
    {
      "cell_type": "code",
      "execution_count": null,
      "metadata": {
        "id": "2CUc4VtPD8Mu",
        "outputId": "95aef102-6b89-4df7-b8ec-3f66795bd721"
      },
      "outputs": [
        {
          "data": {
            "text/plain": [
              "numpy.ndarray"
            ]
          },
          "execution_count": 5,
          "metadata": {},
          "output_type": "execute_result"
        }
      ],
      "source": [
        "type(np.array(my_list))"
      ]
    },
    {
      "cell_type": "code",
      "execution_count": null,
      "metadata": {
        "id": "SYrnorQ4D8Mx",
        "outputId": "3625aca0-9628-4b0a-b7e0-f3ac09999e6b"
      },
      "outputs": [
        {
          "data": {
            "text/plain": [
              "[[1, 2, 3], [4, 5, 6], [6, 7, 8]]"
            ]
          },
          "execution_count": 8,
          "metadata": {},
          "output_type": "execute_result"
        }
      ],
      "source": [
        "my_matrix = [[1,2,3],[4,5,6],[6,7,8]]\n",
        "my_matrix"
      ]
    },
    {
      "cell_type": "code",
      "execution_count": null,
      "metadata": {
        "id": "0cWKxcgFD8Mz",
        "outputId": "e4dbc491-e11a-4e08-efe8-5cba3d7c93b9"
      },
      "outputs": [
        {
          "data": {
            "text/plain": [
              "array([[1, 2, 3],\n",
              "       [4, 5, 6],\n",
              "       [6, 7, 8]])"
            ]
          },
          "execution_count": 7,
          "metadata": {},
          "output_type": "execute_result"
        }
      ],
      "source": [
        "np.array(my_matrix)"
      ]
    },
    {
      "cell_type": "markdown",
      "metadata": {
        "id": "4OlHP3AkD8M0"
      },
      "source": [
        "## Métodos en numpy"
      ]
    },
    {
      "cell_type": "code",
      "execution_count": null,
      "metadata": {
        "id": "E22AqEnID8M1",
        "outputId": "3642adbd-77b5-4ecc-8d23-f4e661dc5377"
      },
      "outputs": [
        {
          "data": {
            "text/plain": [
              "array([0, 1, 2, 3, 4, 5, 6, 7, 8, 9])"
            ]
          },
          "execution_count": 11,
          "metadata": {},
          "output_type": "execute_result"
        }
      ],
      "source": [
        "np.array(list(range(0,10)))"
      ]
    },
    {
      "cell_type": "code",
      "execution_count": null,
      "metadata": {
        "id": "W8oy3iKmD8M1",
        "outputId": "a6a70452-620d-48fc-a20e-123f9bede050"
      },
      "outputs": [
        {
          "data": {
            "text/plain": [
              "array([0, 1, 2, 3, 4, 5, 6, 7, 8, 9])"
            ]
          },
          "execution_count": 12,
          "metadata": {},
          "output_type": "execute_result"
        }
      ],
      "source": [
        "np.arange(0,10)"
      ]
    },
    {
      "cell_type": "code",
      "execution_count": null,
      "metadata": {
        "id": "uwaZ486oD8M2",
        "outputId": "27ea2fe1-48ef-4382-8129-1ed339756c13"
      },
      "outputs": [
        {
          "data": {
            "text/plain": [
              "array([0, 2, 4, 6, 8])"
            ]
          },
          "execution_count": 13,
          "metadata": {},
          "output_type": "execute_result"
        }
      ],
      "source": [
        "np.arange(0,10,2)"
      ]
    },
    {
      "cell_type": "code",
      "execution_count": null,
      "metadata": {
        "id": "pcJ3EIPtD8M2",
        "outputId": "5521063d-9d4f-4ed4-ac4d-7189c597a738"
      },
      "outputs": [
        {
          "data": {
            "text/plain": [
              "array([0., 0., 0.])"
            ]
          },
          "execution_count": 14,
          "metadata": {},
          "output_type": "execute_result"
        }
      ],
      "source": [
        "np.zeros(3)"
      ]
    },
    {
      "cell_type": "code",
      "execution_count": null,
      "metadata": {
        "id": "qil3QfwTD8M3",
        "outputId": "ec7ddc32-29c4-442f-c593-6925717d4eb8"
      },
      "outputs": [
        {
          "data": {
            "text/plain": [
              "array([[0., 0., 0., 0., 0.],\n",
              "       [0., 0., 0., 0., 0.],\n",
              "       [0., 0., 0., 0., 0.],\n",
              "       [0., 0., 0., 0., 0.],\n",
              "       [0., 0., 0., 0., 0.]])"
            ]
          },
          "execution_count": 15,
          "metadata": {},
          "output_type": "execute_result"
        }
      ],
      "source": [
        "np.zeros((5,5))"
      ]
    },
    {
      "cell_type": "code",
      "execution_count": null,
      "metadata": {
        "id": "VacPBEGAD8M4",
        "outputId": "29e7108d-12ed-491a-e7b6-a15854c388c1"
      },
      "outputs": [
        {
          "data": {
            "text/plain": [
              "array([1., 1., 1.])"
            ]
          },
          "execution_count": 16,
          "metadata": {},
          "output_type": "execute_result"
        }
      ],
      "source": [
        "np.ones(3)"
      ]
    },
    {
      "cell_type": "code",
      "execution_count": null,
      "metadata": {
        "id": "GKoWdaGDD8M4",
        "outputId": "19f51a68-3ed5-4a3f-971e-0e64da052042"
      },
      "outputs": [
        {
          "data": {
            "text/plain": [
              "array([[1., 1., 1., 1., 1., 1., 1., 1., 1., 1.],\n",
              "       [1., 1., 1., 1., 1., 1., 1., 1., 1., 1.],\n",
              "       [1., 1., 1., 1., 1., 1., 1., 1., 1., 1.],\n",
              "       [1., 1., 1., 1., 1., 1., 1., 1., 1., 1.],\n",
              "       [1., 1., 1., 1., 1., 1., 1., 1., 1., 1.]])"
            ]
          },
          "execution_count": 17,
          "metadata": {},
          "output_type": "execute_result"
        }
      ],
      "source": [
        "np.ones((5,10))"
      ]
    },
    {
      "cell_type": "code",
      "execution_count": null,
      "metadata": {
        "id": "-RCt1Zz_D8M5",
        "outputId": "e4accb90-2440-41d7-eb00-722320cb85a0"
      },
      "outputs": [
        {
          "ename": "TypeError",
          "evalue": "data type not understood",
          "output_type": "error",
          "traceback": [
            "\u001b[1;31m---------------------------------------------------------------------------\u001b[0m",
            "\u001b[1;31mTypeError\u001b[0m                                 Traceback (most recent call last)",
            "\u001b[1;32m<ipython-input-19-4c3f5c185e36>\u001b[0m in \u001b[0;36m<module>\u001b[1;34m\u001b[0m\n\u001b[1;32m----> 1\u001b[1;33m \u001b[0mnp\u001b[0m\u001b[1;33m.\u001b[0m\u001b[0mones\u001b[0m\u001b[1;33m(\u001b[0m\u001b[1;36m3\u001b[0m\u001b[1;33m,\u001b[0m\u001b[1;36m5\u001b[0m\u001b[1;33m)\u001b[0m\u001b[1;33m\u001b[0m\u001b[1;33m\u001b[0m\u001b[0m\n\u001b[0m",
            "\u001b[1;32m~\\Anaconda3\\envs\\myenv\\lib\\site-packages\\numpy\\core\\numeric.py\u001b[0m in \u001b[0;36mones\u001b[1;34m(shape, dtype, order)\u001b[0m\n\u001b[0;32m    221\u001b[0m \u001b[1;33m\u001b[0m\u001b[0m\n\u001b[0;32m    222\u001b[0m     \"\"\"\n\u001b[1;32m--> 223\u001b[1;33m     \u001b[0ma\u001b[0m \u001b[1;33m=\u001b[0m \u001b[0mempty\u001b[0m\u001b[1;33m(\u001b[0m\u001b[0mshape\u001b[0m\u001b[1;33m,\u001b[0m \u001b[0mdtype\u001b[0m\u001b[1;33m,\u001b[0m \u001b[0morder\u001b[0m\u001b[1;33m)\u001b[0m\u001b[1;33m\u001b[0m\u001b[1;33m\u001b[0m\u001b[0m\n\u001b[0m\u001b[0;32m    224\u001b[0m     \u001b[0mmultiarray\u001b[0m\u001b[1;33m.\u001b[0m\u001b[0mcopyto\u001b[0m\u001b[1;33m(\u001b[0m\u001b[0ma\u001b[0m\u001b[1;33m,\u001b[0m \u001b[1;36m1\u001b[0m\u001b[1;33m,\u001b[0m \u001b[0mcasting\u001b[0m\u001b[1;33m=\u001b[0m\u001b[1;34m'unsafe'\u001b[0m\u001b[1;33m)\u001b[0m\u001b[1;33m\u001b[0m\u001b[1;33m\u001b[0m\u001b[0m\n\u001b[0;32m    225\u001b[0m     \u001b[1;32mreturn\u001b[0m \u001b[0ma\u001b[0m\u001b[1;33m\u001b[0m\u001b[1;33m\u001b[0m\u001b[0m\n",
            "\u001b[1;31mTypeError\u001b[0m: data type not understood"
          ]
        }
      ],
      "source": [
        "# no te lo lee\n",
        "np.ones(3,5)"
      ]
    },
    {
      "cell_type": "code",
      "execution_count": null,
      "metadata": {
        "id": "vUZqUngaD8M5",
        "outputId": "cacd5f34-a4dd-4dac-b735-c84122d54405"
      },
      "outputs": [
        {
          "data": {
            "text/plain": [
              "array([[1., 0., 0., 0., 0.],\n",
              "       [0., 1., 0., 0., 0.],\n",
              "       [0., 0., 1., 0., 0.],\n",
              "       [0., 0., 0., 1., 0.],\n",
              "       [0., 0., 0., 0., 1.]])"
            ]
          },
          "execution_count": 20,
          "metadata": {},
          "output_type": "execute_result"
        }
      ],
      "source": [
        "np.eye(5)"
      ]
    },
    {
      "cell_type": "code",
      "execution_count": null,
      "metadata": {
        "id": "7DGbRGU5D8M6",
        "outputId": "d3c920a4-15fb-4712-b585-b1a2be5c8812"
      },
      "outputs": [
        {
          "data": {
            "text/plain": [
              "array([ 0.        ,  0.20408163,  0.40816327,  0.6122449 ,  0.81632653,\n",
              "        1.02040816,  1.2244898 ,  1.42857143,  1.63265306,  1.83673469,\n",
              "        2.04081633,  2.24489796,  2.44897959,  2.65306122,  2.85714286,\n",
              "        3.06122449,  3.26530612,  3.46938776,  3.67346939,  3.87755102,\n",
              "        4.08163265,  4.28571429,  4.48979592,  4.69387755,  4.89795918,\n",
              "        5.10204082,  5.30612245,  5.51020408,  5.71428571,  5.91836735,\n",
              "        6.12244898,  6.32653061,  6.53061224,  6.73469388,  6.93877551,\n",
              "        7.14285714,  7.34693878,  7.55102041,  7.75510204,  7.95918367,\n",
              "        8.16326531,  8.36734694,  8.57142857,  8.7755102 ,  8.97959184,\n",
              "        9.18367347,  9.3877551 ,  9.59183673,  9.79591837, 10.        ])"
            ]
          },
          "execution_count": 21,
          "metadata": {},
          "output_type": "execute_result"
        }
      ],
      "source": [
        "np.linspace(0,10,50)"
      ]
    },
    {
      "cell_type": "markdown",
      "metadata": {
        "id": "cwDb1aoYD8M6"
      },
      "source": [
        "## Random"
      ]
    },
    {
      "cell_type": "markdown",
      "metadata": {
        "id": "hIaFNCreD8M7"
      },
      "source": [
        "## Rand\n",
        "\n",
        "Devuelve números entre 0 y 1"
      ]
    },
    {
      "cell_type": "code",
      "execution_count": null,
      "metadata": {
        "id": "6pMtKzsAD8M7",
        "outputId": "aeadda80-72fd-4a3c-bd3d-6f0a6b7a1281"
      },
      "outputs": [
        {
          "data": {
            "text/plain": [
              "array([0.3843143 , 0.68995893, 0.72187918, 0.16466287, 0.05850883,\n",
              "       0.28136981, 0.37870849, 0.66261572, 0.92551573, 0.79657555])"
            ]
          },
          "execution_count": 22,
          "metadata": {},
          "output_type": "execute_result"
        }
      ],
      "source": [
        "np.random.rand(10)"
      ]
    },
    {
      "cell_type": "code",
      "execution_count": null,
      "metadata": {
        "id": "nGH0d_t8D8M7",
        "outputId": "3cb884f1-10f7-4143-dc2d-8a1c3b6a42cc"
      },
      "outputs": [
        {
          "data": {
            "text/plain": [
              "array([[0.50000022, 0.17646474, 0.91982358, 0.60582254, 0.03884101],\n",
              "       [0.28279209, 0.28847961, 0.4800235 , 0.98994873, 0.01276958],\n",
              "       [0.03371661, 0.76283107, 0.08646858, 0.38335305, 0.76957922],\n",
              "       [0.6895756 , 0.94306965, 0.07124345, 0.06290505, 0.21788706],\n",
              "       [0.35573812, 0.91887782, 0.98088406, 0.06322139, 0.14091499]])"
            ]
          },
          "execution_count": 24,
          "metadata": {},
          "output_type": "execute_result"
        }
      ],
      "source": [
        "np.random.rand(5,5)"
      ]
    },
    {
      "cell_type": "markdown",
      "metadata": {
        "id": "jfVK4XqKD8M8"
      },
      "source": [
        "## Rand N\n",
        "Devuelve números distribución normal"
      ]
    },
    {
      "cell_type": "code",
      "execution_count": null,
      "metadata": {
        "id": "wPzw_d4rD8M8",
        "outputId": "71711323-7de7-43c4-d693-9275c830194b"
      },
      "outputs": [
        {
          "data": {
            "text/plain": [
              "array([ 1.23048031,  0.3332617 , -0.3721024 ,  1.21880858, -0.96142859])"
            ]
          },
          "execution_count": 25,
          "metadata": {},
          "output_type": "execute_result"
        }
      ],
      "source": [
        "np.random.randn(5)"
      ]
    },
    {
      "cell_type": "code",
      "execution_count": null,
      "metadata": {
        "id": "wtnS49i1D8M8",
        "outputId": "999390c0-fe37-4a11-dd80-7d6ab8df7bef"
      },
      "outputs": [
        {
          "data": {
            "text/plain": [
              "array([[-0.20843919,  0.87607968, -0.55579056,  0.78865914,  1.10674619],\n",
              "       [ 0.33807925,  2.15931301,  0.37952668, -0.02498455, -1.07960259],\n",
              "       [ 0.63076832,  0.19082943,  0.7283318 ,  0.4434348 ,  0.06086952],\n",
              "       [ 1.31009479,  0.04585772, -0.36385371, -0.91226622, -1.07003373],\n",
              "       [-0.45158188, -0.15290546, -0.69419883, -1.00289302,  0.63483638]])"
            ]
          },
          "execution_count": 26,
          "metadata": {},
          "output_type": "execute_result"
        }
      ],
      "source": [
        "np.random.randn(5,5)"
      ]
    },
    {
      "cell_type": "markdown",
      "metadata": {
        "id": "Kki9WwRvD8M9"
      },
      "source": [
        "## Rand int\n",
        "Devuelve número enteros"
      ]
    },
    {
      "cell_type": "code",
      "execution_count": null,
      "metadata": {
        "id": "OZKFDVg-D8M9",
        "outputId": "d09f5442-088f-4681-ae13-6dbfa99a5fdc"
      },
      "outputs": [
        {
          "data": {
            "text/plain": [
              "145"
            ]
          },
          "execution_count": 30,
          "metadata": {},
          "output_type": "execute_result"
        }
      ],
      "source": [
        "np.random.randint(0,150)"
      ]
    },
    {
      "cell_type": "code",
      "execution_count": null,
      "metadata": {
        "id": "owDMkvl7D8NA",
        "outputId": "dff2bc73-17c8-447c-f8d0-ef6277f5929d"
      },
      "outputs": [
        {
          "data": {
            "text/plain": [
              "array([ 37, 125, 148,  80, 130, 149,  66,  20, 109,  48, 116, 121, 100,\n",
              "        40,  25,  89,  31,  22, 114,  93, 141,  78,  71,   8,  25,  91,\n",
              "        49, 108,  45, 112,  95,  25, 126,  78, 123, 125,  75,  77,  10,\n",
              "        85, 104, 136, 112,  53, 132,  87,  43,  12,  72,  86])"
            ]
          },
          "execution_count": 31,
          "metadata": {},
          "output_type": "execute_result"
        }
      ],
      "source": [
        "np.random.randint(0,150,50)"
      ]
    },
    {
      "cell_type": "code",
      "execution_count": null,
      "metadata": {
        "id": "QFA-zcTlD8NB",
        "outputId": "2c98769c-e13f-4c73-e375-287dde3cd470"
      },
      "outputs": [
        {
          "data": {
            "text/plain": [
              "array([[141,  35, 104, 137,  67],\n",
              "       [ 55,  47,  88,   1, 147],\n",
              "       [136,  94,  65,  80,  71],\n",
              "       [ 87,  60,  46,  27, 126],\n",
              "       [ 24, 131,  13,  93,  32]])"
            ]
          },
          "execution_count": 34,
          "metadata": {},
          "output_type": "execute_result"
        }
      ],
      "source": [
        "np.random.randint(0,150,(5,5))"
      ]
    },
    {
      "cell_type": "markdown",
      "metadata": {
        "id": "rSCVb2jXD8NB"
      },
      "source": [
        "## Atributos"
      ]
    },
    {
      "cell_type": "code",
      "execution_count": null,
      "metadata": {
        "id": "h1CkS_IeD8NC"
      },
      "outputs": [],
      "source": [
        "x = np.random.randint(0,150)\n",
        "y = np.random.randint(20,741,150)"
      ]
    },
    {
      "cell_type": "code",
      "execution_count": null,
      "metadata": {
        "id": "UJV5q4wJD8NC",
        "outputId": "b99e4ea6-d345-404b-a0cd-c0b250998921"
      },
      "outputs": [
        {
          "data": {
            "text/plain": [
              "62"
            ]
          },
          "execution_count": 36,
          "metadata": {},
          "output_type": "execute_result"
        }
      ],
      "source": [
        "x"
      ]
    },
    {
      "cell_type": "code",
      "execution_count": null,
      "metadata": {
        "id": "m-KwTdv_D8ND",
        "outputId": "d1bf482b-f42f-4205-8f37-a4d80e013abd"
      },
      "outputs": [
        {
          "data": {
            "text/plain": [
              "array([568, 513, 206, 542, 118,  76, 691, 653, 153, 660, 300, 473, 586,\n",
              "       378, 212, 724, 298, 335, 270, 166, 433, 148, 714, 608, 415, 729,\n",
              "        45, 523, 440, 696, 491, 293, 633, 385, 338,  38, 218, 265,  71,\n",
              "       230,  95, 481, 194, 232, 154,  93, 590, 672, 240, 659, 735, 548,\n",
              "       703, 192, 498, 391, 543, 651, 471, 335, 516, 502, 490,  34, 566,\n",
              "        45,  30,  80, 106, 311, 592, 458, 612,  53, 232, 333, 160, 391,\n",
              "       227, 670, 347, 236, 341, 275, 642, 114, 106, 293, 715, 125, 373,\n",
              "       547, 550, 606, 713, 319, 116, 226, 270, 252, 299, 619, 437, 231,\n",
              "       452, 712, 311, 600, 674, 699, 154, 129, 480, 596, 632, 323,  31,\n",
              "       638, 183, 664, 138, 484, 492, 132, 231, 602,  88, 172, 304, 182,\n",
              "       403, 393, 597, 739, 547, 238, 245,  27, 448, 540,  86, 588, 565,\n",
              "        37, 459, 546, 155,  81, 301, 263])"
            ]
          },
          "execution_count": 37,
          "metadata": {},
          "output_type": "execute_result"
        }
      ],
      "source": [
        "y"
      ]
    },
    {
      "cell_type": "markdown",
      "metadata": {
        "id": "1z7qteczD8ND"
      },
      "source": [
        "## Shape"
      ]
    },
    {
      "cell_type": "code",
      "execution_count": null,
      "metadata": {
        "id": "068KT5y-D8NE",
        "outputId": "cf1cc999-6ac9-4ace-f2f1-29a295294ec4"
      },
      "outputs": [
        {
          "data": {
            "text/plain": [
              "(150,)"
            ]
          },
          "execution_count": 38,
          "metadata": {},
          "output_type": "execute_result"
        }
      ],
      "source": [
        "y.shape"
      ]
    },
    {
      "cell_type": "code",
      "execution_count": null,
      "metadata": {
        "id": "r4k6puMKD8NE",
        "outputId": "05bef0ac-c373-4d47-d12e-21fef883d987"
      },
      "outputs": [
        {
          "data": {
            "text/plain": [
              "array([[1., 0., 0., 0., 0.],\n",
              "       [0., 1., 0., 0., 0.],\n",
              "       [0., 0., 1., 0., 0.],\n",
              "       [0., 0., 0., 1., 0.],\n",
              "       [0., 0., 0., 0., 1.]])"
            ]
          },
          "execution_count": 41,
          "metadata": {},
          "output_type": "execute_result"
        }
      ],
      "source": [
        "z = np.eye(5)\n",
        "z"
      ]
    },
    {
      "cell_type": "code",
      "execution_count": null,
      "metadata": {
        "id": "DpG776hVD8NE",
        "outputId": "bad03fae-4624-42a1-8441-442f7e889a3f"
      },
      "outputs": [
        {
          "data": {
            "text/plain": [
              "(5, 5)"
            ]
          },
          "execution_count": 40,
          "metadata": {},
          "output_type": "execute_result"
        }
      ],
      "source": [
        "z.shape"
      ]
    },
    {
      "cell_type": "code",
      "execution_count": null,
      "metadata": {
        "id": "QcfEATUcD8NF",
        "outputId": "e18bab7c-4b6d-4559-b054-1cb94b547406"
      },
      "outputs": [
        {
          "data": {
            "text/plain": [
              "array([ 0.        ,  0.24489796,  0.48979592,  0.73469388,  0.97959184,\n",
              "        1.2244898 ,  1.46938776,  1.71428571,  1.95918367,  2.20408163,\n",
              "        2.44897959,  2.69387755,  2.93877551,  3.18367347,  3.42857143,\n",
              "        3.67346939,  3.91836735,  4.16326531,  4.40816327,  4.65306122,\n",
              "        4.89795918,  5.14285714,  5.3877551 ,  5.63265306,  5.87755102,\n",
              "        6.12244898,  6.36734694,  6.6122449 ,  6.85714286,  7.10204082,\n",
              "        7.34693878,  7.59183673,  7.83673469,  8.08163265,  8.32653061,\n",
              "        8.57142857,  8.81632653,  9.06122449,  9.30612245,  9.55102041,\n",
              "        9.79591837, 10.04081633, 10.28571429, 10.53061224, 10.7755102 ,\n",
              "       11.02040816, 11.26530612, 11.51020408, 11.75510204, 12.        ])"
            ]
          },
          "execution_count": 43,
          "metadata": {},
          "output_type": "execute_result"
        }
      ],
      "source": [
        "li = np.linspace(0,12)\n",
        "li"
      ]
    },
    {
      "cell_type": "code",
      "execution_count": null,
      "metadata": {
        "id": "fZGyLsobD8NF",
        "outputId": "47733fe8-0fde-4031-d323-6c28e855b7cb"
      },
      "outputs": [
        {
          "data": {
            "text/plain": [
              "(50, (50,))"
            ]
          },
          "execution_count": 45,
          "metadata": {},
          "output_type": "execute_result"
        }
      ],
      "source": [
        "len(li), li.shape"
      ]
    },
    {
      "cell_type": "code",
      "execution_count": null,
      "metadata": {
        "id": "JpbJvvUND8NF",
        "outputId": "c839e3ad-c1f9-41d3-c49e-c08ca52aefc0"
      },
      "outputs": [
        {
          "data": {
            "text/plain": [
              "array([[ 0.        ,  0.24489796,  0.48979592,  0.73469388,  0.97959184,\n",
              "         1.2244898 ,  1.46938776,  1.71428571,  1.95918367,  2.20408163],\n",
              "       [ 2.44897959,  2.69387755,  2.93877551,  3.18367347,  3.42857143,\n",
              "         3.67346939,  3.91836735,  4.16326531,  4.40816327,  4.65306122],\n",
              "       [ 4.89795918,  5.14285714,  5.3877551 ,  5.63265306,  5.87755102,\n",
              "         6.12244898,  6.36734694,  6.6122449 ,  6.85714286,  7.10204082],\n",
              "       [ 7.34693878,  7.59183673,  7.83673469,  8.08163265,  8.32653061,\n",
              "         8.57142857,  8.81632653,  9.06122449,  9.30612245,  9.55102041],\n",
              "       [ 9.79591837, 10.04081633, 10.28571429, 10.53061224, 10.7755102 ,\n",
              "        11.02040816, 11.26530612, 11.51020408, 11.75510204, 12.        ]])"
            ]
          },
          "execution_count": 46,
          "metadata": {},
          "output_type": "execute_result"
        }
      ],
      "source": [
        "li.reshape(5,10)"
      ]
    },
    {
      "cell_type": "code",
      "execution_count": null,
      "metadata": {
        "id": "McO-4FLRD8NG",
        "outputId": "41fb3569-d582-4ae5-b246-a92db4cc6368"
      },
      "outputs": [
        {
          "data": {
            "text/plain": [
              "array([258, 605, 481, 654, 691, 422,  94, 216, 206,  89])"
            ]
          },
          "execution_count": 51,
          "metadata": {},
          "output_type": "execute_result"
        }
      ],
      "source": [
        "p = np.random.randint(20,741,10)\n",
        "p"
      ]
    },
    {
      "cell_type": "code",
      "execution_count": null,
      "metadata": {
        "id": "xeESp8QDD8NG",
        "outputId": "9ac0a85b-d254-4269-b1f7-fa3445c41a7f"
      },
      "outputs": [
        {
          "data": {
            "text/plain": [
              "691"
            ]
          },
          "execution_count": 52,
          "metadata": {},
          "output_type": "execute_result"
        }
      ],
      "source": [
        "p.max()"
      ]
    },
    {
      "cell_type": "code",
      "execution_count": null,
      "metadata": {
        "id": "axMZmAvoD8NG",
        "outputId": "c97a1aa4-4a28-4432-fa69-a5e05eb7cd77"
      },
      "outputs": [
        {
          "data": {
            "text/plain": [
              "371.6"
            ]
          },
          "execution_count": 53,
          "metadata": {},
          "output_type": "execute_result"
        }
      ],
      "source": [
        "p.mean()"
      ]
    },
    {
      "cell_type": "code",
      "execution_count": null,
      "metadata": {
        "id": "opz9r5GyD8NG",
        "outputId": "83aa7f81-e5ee-49f3-b0f0-ed2657c4959e"
      },
      "outputs": [
        {
          "data": {
            "text/plain": [
              "217.30494702146106"
            ]
          },
          "execution_count": 54,
          "metadata": {},
          "output_type": "execute_result"
        }
      ],
      "source": [
        "p.std()"
      ]
    },
    {
      "cell_type": "code",
      "execution_count": null,
      "metadata": {
        "id": "5FHiRW4QD8NH",
        "outputId": "88641117-a5a5-4957-9078-1519c29955aa"
      },
      "outputs": [
        {
          "data": {
            "text/plain": [
              "4"
            ]
          },
          "execution_count": 55,
          "metadata": {},
          "output_type": "execute_result"
        }
      ],
      "source": [
        "p.argmax()"
      ]
    },
    {
      "cell_type": "markdown",
      "metadata": {
        "id": "zOAxkQ6KD8NH"
      },
      "source": [
        "## Operaciones"
      ]
    },
    {
      "cell_type": "code",
      "execution_count": null,
      "metadata": {
        "id": "cPS7ciMhD8NI",
        "outputId": "a7f6aa92-9bb8-4b52-c36c-f5228457a52f"
      },
      "outputs": [
        {
          "data": {
            "text/plain": [
              "array([ 516, 1210,  962, 1308, 1382,  844,  188,  432,  412,  178])"
            ]
          },
          "execution_count": 56,
          "metadata": {},
          "output_type": "execute_result"
        }
      ],
      "source": [
        "p+p"
      ]
    },
    {
      "cell_type": "code",
      "execution_count": null,
      "metadata": {
        "id": "XZtZnBw8D8NI",
        "outputId": "60979192-53f1-48ea-f1b4-8f84f80c8cbb"
      },
      "outputs": [
        {
          "data": {
            "text/plain": [
              "array([ 66564, 366025, 231361, 427716, 477481, 178084,   8836,  46656,\n",
              "        42436,   7921])"
            ]
          },
          "execution_count": 57,
          "metadata": {},
          "output_type": "execute_result"
        }
      ],
      "source": [
        "p*p"
      ]
    },
    {
      "cell_type": "code",
      "execution_count": null,
      "metadata": {
        "id": "tYTSZ4hBD8NI",
        "outputId": "a57e9f72-8158-4947-83db-90236c70bb62"
      },
      "outputs": [
        {
          "ename": "ZeroDivisionError",
          "evalue": "division by zero",
          "output_type": "error",
          "traceback": [
            "\u001b[1;31m---------------------------------------------------------------------------\u001b[0m",
            "\u001b[1;31mZeroDivisionError\u001b[0m                         Traceback (most recent call last)",
            "\u001b[1;32m<ipython-input-58-9ab73e148374>\u001b[0m in \u001b[0;36m<module>\u001b[1;34m\u001b[0m\n\u001b[1;32m----> 1\u001b[1;33m \u001b[1;36m0\u001b[0m\u001b[1;33m/\u001b[0m\u001b[1;36m0\u001b[0m\u001b[1;33m\u001b[0m\u001b[1;33m\u001b[0m\u001b[0m\n\u001b[0m",
            "\u001b[1;31mZeroDivisionError\u001b[0m: division by zero"
          ]
        }
      ],
      "source": [
        "0/0"
      ]
    },
    {
      "cell_type": "code",
      "execution_count": null,
      "metadata": {
        "id": "6rM0TkzpD8NI",
        "outputId": "ae6b0a4d-35b7-46b2-b1fd-16ca13f46c75"
      },
      "outputs": [
        {
          "data": {
            "text/plain": [
              "array([ 17173512, 221445125, 111284641, 279726264, 329939371,  75151448,\n",
              "          830584,  10077696,   8741816,    704969], dtype=int32)"
            ]
          },
          "execution_count": 59,
          "metadata": {},
          "output_type": "execute_result"
        }
      ],
      "source": [
        "p**3"
      ]
    },
    {
      "cell_type": "code",
      "execution_count": null,
      "metadata": {
        "id": "cQB3-uYID8NJ",
        "outputId": "3bb7979c-e63e-4b36-be50-ba8d7d70b42a"
      },
      "outputs": [
        {
          "data": {
            "text/plain": [
              "691"
            ]
          },
          "execution_count": 60,
          "metadata": {},
          "output_type": "execute_result"
        }
      ],
      "source": [
        "np.max(p)"
      ]
    },
    {
      "cell_type": "code",
      "execution_count": null,
      "metadata": {
        "id": "D0KzLYe_D8NJ",
        "outputId": "31a6de5d-402d-4066-beca-439196edceeb"
      },
      "outputs": [
        {
          "data": {
            "text/plain": [
              "array([ 0.37963563,  0.97052075, -0.33001928,  0.52160244, -0.1498176 ,\n",
              "        0.85553559, -0.24525199,  0.69605849, -0.9746419 ,  0.86006941])"
            ]
          },
          "execution_count": 61,
          "metadata": {},
          "output_type": "execute_result"
        }
      ],
      "source": [
        "np.sin(p)"
      ]
    },
    {
      "cell_type": "code",
      "execution_count": null,
      "metadata": {
        "id": "bkW-6DaPD8NJ",
        "outputId": "aefc10ab-f4fa-4ad9-841f-2e6b3d4ef89f"
      },
      "outputs": [
        {
          "data": {
            "text/plain": [
              "array([1.11680238e+112, 5.59965862e+262, 7.86404148e+208, 1.06804897e+284,\n",
              "       1.25166179e+300, 1.87185138e+183, 6.66317622e+040, 6.42108015e+093,\n",
              "       2.91516588e+089, 4.48961282e+038])"
            ]
          },
          "execution_count": 62,
          "metadata": {},
          "output_type": "execute_result"
        }
      ],
      "source": [
        "np.exp(p)"
      ]
    },
    {
      "cell_type": "code",
      "execution_count": null,
      "metadata": {
        "id": "E7VbfcxiD8NJ",
        "outputId": "17e43af1-78c6-46e5-ba62-16b83b17723c"
      },
      "outputs": [
        {
          "data": {
            "text/plain": [
              "array([16.0623784 , 24.59674775, 21.9317122 , 25.57342371, 26.28687886,\n",
              "       20.54263858,  9.69535971, 14.69693846, 14.35270009,  9.43398113])"
            ]
          },
          "execution_count": 63,
          "metadata": {},
          "output_type": "execute_result"
        }
      ],
      "source": [
        "np.sqrt(p)"
      ]
    },
    {
      "cell_type": "code",
      "execution_count": null,
      "metadata": {
        "id": "Ah6WYW0YD8NK",
        "outputId": "76efeedf-be0b-4c57-9c8c-ac95eca7969a"
      },
      "outputs": [
        {
          "data": {
            "text/plain": [
              "array([258, 605, 481, 654, 691, 422,  94, 216, 206,  89])"
            ]
          },
          "execution_count": 64,
          "metadata": {},
          "output_type": "execute_result"
        }
      ],
      "source": [
        "p"
      ]
    },
    {
      "cell_type": "code",
      "execution_count": null,
      "metadata": {
        "id": "euoR5OTXD8NK",
        "outputId": "7ba36e17-7bca-4dff-bee0-dd58a8cc7328"
      },
      "outputs": [
        {
          "data": {
            "text/plain": [
              "(array([4], dtype=int64),)"
            ]
          },
          "execution_count": 67,
          "metadata": {},
          "output_type": "execute_result"
        }
      ],
      "source": [
        "x = np.where(p==np.max(p))\n",
        "x"
      ]
    },
    {
      "cell_type": "code",
      "execution_count": null,
      "metadata": {
        "id": "G379SV_ED8NK",
        "outputId": "2a6eb294-cc0e-4ca8-8c52-2f7a2556da2d"
      },
      "outputs": [
        {
          "data": {
            "text/plain": [
              "array([691])"
            ]
          },
          "execution_count": 68,
          "metadata": {},
          "output_type": "execute_result"
        }
      ],
      "source": [
        "p[x]"
      ]
    },
    {
      "cell_type": "markdown",
      "metadata": {
        "id": "wx-0fInMD8NL"
      },
      "source": [
        "## Indexación & Slide"
      ]
    },
    {
      "cell_type": "code",
      "execution_count": null,
      "metadata": {
        "id": "d34EQRskD8NL",
        "outputId": "0c743c1d-43e5-41f2-ce6a-9fd92171deef"
      },
      "outputs": [
        {
          "data": {
            "text/plain": [
              "array([[1, 2, 3],\n",
              "       [4, 5, 6],\n",
              "       [6, 7, 8]])"
            ]
          },
          "execution_count": 69,
          "metadata": {},
          "output_type": "execute_result"
        }
      ],
      "source": [
        "m = np.array(my_matrix)\n",
        "m"
      ]
    },
    {
      "cell_type": "code",
      "execution_count": null,
      "metadata": {
        "id": "7AJEgfHwD8NL",
        "outputId": "d0871957-e1ee-4259-831c-c166584f1597"
      },
      "outputs": [
        {
          "data": {
            "text/plain": [
              "1"
            ]
          },
          "execution_count": 71,
          "metadata": {},
          "output_type": "execute_result"
        }
      ],
      "source": [
        "m[0][0]"
      ]
    },
    {
      "cell_type": "code",
      "execution_count": null,
      "metadata": {
        "id": "kxBjdtHBD8NL",
        "outputId": "e1c9c394-62c8-428e-eb53-0835b5cd8fbe"
      },
      "outputs": [
        {
          "data": {
            "text/plain": [
              "1"
            ]
          },
          "execution_count": 72,
          "metadata": {},
          "output_type": "execute_result"
        }
      ],
      "source": [
        "m[0,0]"
      ]
    },
    {
      "cell_type": "code",
      "execution_count": null,
      "metadata": {
        "id": "Cab_IzA9D8NM",
        "outputId": "52af73d6-e68b-4362-8b39-d78176cc08c7"
      },
      "outputs": [
        {
          "data": {
            "text/plain": [
              "array([[4, 5, 6]])"
            ]
          },
          "execution_count": 74,
          "metadata": {},
          "output_type": "execute_result"
        }
      ],
      "source": [
        "m[:2][1:]"
      ]
    },
    {
      "cell_type": "code",
      "execution_count": null,
      "metadata": {
        "id": "13a27LmnD8NM",
        "outputId": "e25743dd-d56f-4cb7-93c0-16b5a57a67ac"
      },
      "outputs": [
        {
          "data": {
            "text/plain": [
              "array([[2, 3],\n",
              "       [5, 6]])"
            ]
          },
          "execution_count": 75,
          "metadata": {},
          "output_type": "execute_result"
        }
      ],
      "source": [
        "#mejor forma\n",
        "m[:2,1:]"
      ]
    },
    {
      "cell_type": "code",
      "execution_count": null,
      "metadata": {
        "id": "xL1M27YBD8NM",
        "outputId": "30da5645-b8c6-424c-d3ed-aef2b78761c5"
      },
      "outputs": [
        {
          "data": {
            "text/plain": [
              "array([[1, 2, 3],\n",
              "       [4, 5, 6],\n",
              "       [6, 7, 8]])"
            ]
          },
          "execution_count": 76,
          "metadata": {},
          "output_type": "execute_result"
        }
      ],
      "source": [
        "n = m.copy()\n",
        "n"
      ]
    },
    {
      "cell_type": "markdown",
      "metadata": {
        "id": "XjIOX7afD8NM"
      },
      "source": [
        "## FIN"
      ]
    }
  ],
  "metadata": {
    "kernelspec": {
      "display_name": "Python 3",
      "language": "python",
      "name": "python3"
    },
    "language_info": {
      "codemirror_mode": {
        "name": "ipython",
        "version": 3
      },
      "file_extension": ".py",
      "mimetype": "text/x-python",
      "name": "python",
      "nbconvert_exporter": "python",
      "pygments_lexer": "ipython3",
      "version": "3.6.8"
    },
    "colab": {
      "name": "01-Numpy.ipynb",
      "provenance": []
    }
  },
  "nbformat": 4,
  "nbformat_minor": 0
}